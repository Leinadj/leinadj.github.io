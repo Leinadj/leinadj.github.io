{
 "cells": [
  {
   "cell_type": "markdown",
   "metadata": {},
   "source": [
    "# ALE (Accumulative Local Effects)"
   ]
  },
  {
   "cell_type": "markdown",
   "metadata": {},
   "source": [
    "ALE is a model-agnostic method for explaining the influence of features on predictions. It focuses on the global influence of a particular feature (or feature combination) on predictions, rather than explaining individual predictions. ALE overcomes some of the issues faced by Partial Dependence Plots (PDP), such as dealing with correlations between features."
   ]
  },
  {
   "cell_type": "markdown",
   "metadata": {},
   "source": [
    "### Computation"
   ]
  },
  {
   "cell_type": "markdown",
   "metadata": {},
   "source": [
    "At its core, ALE involves the following steps:\n",
    "\n",
    "1. Select a feature and consider each value that the feature can take.\n",
    "2. Create a small interval around each individual value and slightly vary the feature value within that interval.\n",
    "3. Observe how the predictions change as the feature values are wiggled.\n",
    "4. he computation of ALE involves sums instead of integrals, as integration over features may not be efficient.\n",
    "\n",
    "To compute the ALE, we determine the difference in predictions for individual samples. By varying the feature of interest within a defined interval, we observe how the predictions change locally around that feature value. This is done by creating a neighborhood around a specific feature value, identifying the data instances within that window, and repeating the computation to observe the predicted outcomes.\n",
    "\n",
    "By averaging the effects over the samples within the neighborhood, we obtain the ALE estimate. In contrast to Partial Dependence Plots (PDP), ALE plots only average over instances that lie within a small window around each feature value, instead of forcing all instances to have a fixed value for the feature"
   ]
  },
  {
   "attachments": {},
   "cell_type": "markdown",
   "metadata": {},
   "source": [
    "Molnar describes this in his book as follows:  “Let me show you how the model predictions change in a small”window” of the feature around v for data instances in that window.”"
   ]
  },
  {
   "attachments": {},
   "cell_type": "markdown",
   "metadata": {},
   "source": [
    "The estimate of the ALE using the following notation:\n",
    "- feature number j\n",
    "- input data x\n",
    "- sample number i\n",
    "- input data sample $x^{(i)}$\n",
    "- feature j of input data sample $x_j^{(i)}$\n",
    "- k is one value feature j can have (we assume a grid of values k to discretize continous ones)\n",
    "- neighborhood (interval) for value k of feature j: $N_j(k)$\n",
    "- a sample $x_j^{(i)}$ can be within a neighborhood  $N_j(k)$ if its value for feature j is close to k"
   ]
  },
  {
   "attachments": {},
   "cell_type": "markdown",
   "metadata": {},
   "source": [
    "The ALE computes the difference in predictions for certain neighborhoods of a feature j.\n",
    "Each feature j hast multiple values k it can assume. So we get one \"difference\" in prediction per value k.\n",
    "Each neighborhood can contain a different number of samples. Thus, we average over these samples, i.e. we divide by the \n",
    "number of samples $x_j^{(i)}$ in a certain neighorhood"
   ]
  },
  {
   "attachments": {},
   "cell_type": "markdown",
   "metadata": {},
   "source": [
    "The formula for computing the ALE (for estimating it using sums): \n",
    "\n",
    "$\\hat{\\widetilde{f}}_{j, ALE}(x) = \\sum_{k=1}^{k_j(x)}  \\frac{1}{n_j(k)} \\sum_{i:x_j^{(i)} \\in N_j(k)} \\left[ \\hat{f}(z_{k,j}, x^{(i)}_{ - j})- \\hat{f}(z_{k-1,j}, x^{(i)}_{ - j}) \\right]$\n"
   ]
  },
  {
   "attachments": {},
   "cell_type": "markdown",
   "metadata": {},
   "source": [
    "So we have some additional notation in here:\n",
    "- $\\hat{\\widetilde{f}}_{j, ALE}(x)$ is our uncentered ALE estimated, based on the estimator  $\\hat{f}$\n",
    "- $\\hat{f}$ is our estimator, our machine learning model\n",
    "- $\\hat{f}_{j, ALE}(x)$ ist die estimated ALE value for feature j, using the input data x\n",
    "- $k_j(x)$ is the last value k feature j can assume for data point x\n",
    "- $n_j(k)$ is the number of data points $x_j^{(i)}$ in the Neighborhood $N_j(k)$ \n",
    "- $\\sum_{i:x_j^{(i)} \\in N_j(k)}$ sums over all data points in the neighborhood $N_j(k)$ for feature j"
   ]
  },
  {
   "attachments": {},
   "cell_type": "markdown",
   "metadata": {},
   "source": [
    "Now to the weird part at the heart of the equation:\n",
    "\n",
    "- $z_{k,j}$ is a value from a grid $Z$ that we define to vary our feature j (the intervals we construct)\n",
    "We have this interval for each value $k$ the feature $j$ assumes. So we call this grid value $z_{k,j}$ \n",
    "- $x^{(i)}_{ - j}$ is just the datapoint $x^{(i)}$ without the feature $j$ (notated by using $-j$)\n",
    "We just remove the \"column\" $j$ from the feature vector $x^{(i)}$\n",
    "- $x^{(i)}_{ - j}$ has one column removed. The column $j$. So we can not input it into our estimator. We need to add the \"column\" $j$ again. But we want to wiggle around the value $k$ of column $j$ a little bit to get the difference in prediction\n",
    "our wiggling causes (wiggling = slightly editing the value $k$ = a small interval around $k$ = our grid values from $Z$).\n",
    "\n",
    "Thus we compute:\n",
    "$\\hat{f}(z_{k,j}, x^{(i)}_{ - j})$\n",
    "And with the previous grid value $z_{k-1,j}$\n",
    "we get $\\hat{f}(z_{k-1,j}, x^{(i)}_{ - j})$ respectively"
   ]
  },
  {
   "attachments": {},
   "cell_type": "markdown",
   "metadata": {},
   "source": [
    "How does this grid look like? That is one crucial part when implementing ALE.\n",
    "So let's say for a numerical featuere that assumes the values $[1,2,3]$ we define for each $k\\in[1,2,3]$ the grid.\n",
    "\n",
    "Then our grid can look like:\n",
    "$Z = [0.5,1.5,2.5,3.5]$\n",
    "\n",
    "So for $k=1$ we have $z_{1,j} = 1.5$ and $z_{k-1,j} =z_{0,j}  = 0.5$ \n",
    "\n",
    "or for $k=3$ we have $z_{3,j} = 3.5$  and $z_{3-1,j} =z_{2,j}  = 2.5$ \n",
    "\n",
    "As you can see if we have $k$ values, we need $k+1$ values in the grid $Z$.\n",
    "We add a $k=0$ value, altough in our formula we sum over all $k$ starting at $k=1$.\n",
    "\n",
    "We merge these values back into the original data point and obtain a perfectly fine, slightly tunes data point vector for sample $i$. We run the two tuned vectors we obtain per $k$ throug our model, compare the predictions, and go on :)\n",
    "\n",
    "\n"
   ]
  },
  {
   "attachments": {},
   "cell_type": "markdown",
   "metadata": {},
   "source": [
    "The construction of the grid depends on the type of variable (numerical, continuous, categorical), and it is an important implementation detail in ALE. We aim to distribute the number of data points within each neighborhood as equally as possible when designing the grid. One approach is to use quantiles (percentiles) of the feature column values, ensuring an equal number of data points in each interval."
   ]
  },
  {
   "cell_type": "markdown",
   "metadata": {},
   "source": [
    "After computing the uncentered ALE estimate $\\hat{\\widetilde{f}}_{j, ALE}(x)$, we center it, so that the mean effect is zero over the column.\n",
    "\n",
    "$\\hat{f}_{j, ALE}(x) = \\hat{\\widetilde{f}}_{j, ALE}(x) - \\frac{1}{n} \\sum_{i=1}^n {\\hat{\\widetilde{f}}_{j, ALE}(x^{(i)}_j)}$\n",
    "\n",
    "So, for the ALE of a feature, we take the individual ALE estimates and averages over all samples (i.e. indirectly over the possible values $j$ can have).\n",
    "\n",
    "Now we have the centered ALE estimate (mean effect is zero): $\\hat{f}_{j, ALE}(x) $"
   ]
  },
  {
   "cell_type": "markdown",
   "metadata": {},
   "source": [
    "$\\hat{\\widetilde{f}}_{j, ALE}(x^{(i)}_j) = \\sum_{k=1}^{k_j(x^{(i)}_j)}  \\frac{1}{n_j(k)} \\sum_{i:x_j^{(i)} \\in N_j(k)} \\left[ \\hat{f}(z_{k,j}, x^{(i)}_{ - j})- \\hat{f}(z_{k-1,j}, x^{(i)}_{ - j}) \\right] =   \\frac{1}{n_j(k)} \\sum_{i:x_j^{(i)} \\in N_j(k)} \\left[ \\hat{f}(z_{k,j}, x^{(i)}_{ - j})- \\hat{f}(z_{k-1,j}, x^{(i)}_{ - j}) \\right] $"
   ]
  },
  {
   "cell_type": "markdown",
   "metadata": {},
   "source": [
    "## Example computation on bike rental dataset"
   ]
  },
  {
   "cell_type": "markdown",
   "metadata": {},
   "source": [
    "Load the dataset first, and pre-process it, according to the procedure in the interpretable ml book"
   ]
  },
  {
   "cell_type": "code",
   "execution_count": 1,
   "metadata": {},
   "outputs": [],
   "source": [
    "import data_preprocessing as dp\n",
    "import warnings\n",
    "warnings.filterwarnings(\"ignore\")\n",
    "data = dp.get_bike_data('data/bike_sharing/day.csv')\n",
    "X = data.drop([\"cnt\"], axis=1)\n",
    "Y = data[\"cnt\"]"
   ]
  },
  {
   "cell_type": "code",
   "execution_count": 2,
   "metadata": {},
   "outputs": [],
   "source": [
    "from sklearn.preprocessing import OrdinalEncoder\n",
    "encoders = {}\n",
    "# Encode all categorical variables\n",
    "for col in X.columns:\n",
    "    if X[col].dtype == 'category':\n",
    "        if col == \"season\":\n",
    "            order = [\"spring\", \"summer\", \"fall\", \"winter\"]\n",
    "        elif col == \"weathersit\":\n",
    "            order = [\"GOOD\", \"MISTY\", \"RAIN/SNOW/STORM\"]\n",
    "        elif col == \"mnth\":\n",
    "            order = [\"jan\", \"feb\", \"mar\", \"apr\", \"may\", \"jun\", \"jul\", \"aug\", \"sep\", \"oct\",\n",
    "                     \"nov\", \"dec\"]\n",
    "        elif col == \"weekday\":\n",
    "            order  = [\"sun\", \"mon\", \"tue\", \"wed\", \"thu\", \"fri\", \"sat\"]\n",
    "        else:\n",
    "            order = []\n",
    "        \n",
    "        if len(order) > 0:\n",
    "            # make elements in order uppercase\n",
    "            encoder = OrdinalEncoder(categories=[[o.upper() for o in order]])\n",
    "        else:\n",
    "            encoder  = OrdinalEncoder()\n",
    "  \n",
    "        encoder = encoder.set_output(transform=\"pandas\")\n",
    "        X[col] = encoder.fit_transform(X[[col]])\n",
    "        encoders[col] = encoder"
   ]
  },
  {
   "cell_type": "markdown",
   "metadata": {},
   "source": [
    "#### We need to have an estimator, our predictor, that we can interpret. We will train a tree regressor model and see how the features influence the predictions using ALE."
   ]
  },
  {
   "cell_type": "code",
   "execution_count": 7,
   "metadata": {},
   "outputs": [],
   "source": [
    "from sklearn.tree import DecisionTreeRegressor\n",
    "regressor = DecisionTreeRegressor(random_state=0)\n",
    "regressor = regressor.fit(X, Y)"
   ]
  },
  {
   "cell_type": "markdown",
   "metadata": {},
   "source": [
    "### ALE for Continious Feature"
   ]
  },
  {
   "cell_type": "markdown",
   "metadata": {},
   "source": [
    "We take the temperature feature as an example for a continious feature"
   ]
  },
  {
   "cell_type": "markdown",
   "metadata": {},
   "source": [
    "Step by step we will compute the ALE"
   ]
  },
  {
   "cell_type": "code",
   "execution_count": 8,
   "metadata": {},
   "outputs": [],
   "source": [
    "import numpy as np\n",
    "def compute_ale(X, feature_name, z_j, return_individual_values=False):\n",
    "    \"\"\"_summary_\n",
    "\n",
    "    Args:\n",
    "        X (_type_): input data frame\n",
    "        feature_name: name of the feature\n",
    "        z_j (_type_): grid with the intervals\n",
    "        return_individual_values (_type_): whether to return the individual values or not\n",
    "    \"\"\"\n",
    "    feature_j = X[feature_name].values\n",
    "    k = np.unique(feature_j) # our value vector k of the unique values in feature j\n",
    "\n",
    "    feature_j_grid_cell = np.digitize(feature_j, z_j, right=False) # digitize returns the index of the bin that the feature value falls into\n",
    "\n",
    "    # for each sample point, we have the bin it falls into\n",
    "    # we start at z_j[1:], because the first element is not a bin we want datapoints to fall into\n",
    "    # refer to the formula above for details\n",
    "    sum_over_all_values_k = []\n",
    "\n",
    "    # we have the different values k of the feature j\n",
    "    # multiple values k can fall into the same bin\n",
    "    # we average over all the k's that fall into the same bin\n",
    "    # so first, for each k, we will find all the samples that fall into the same bin\n",
    "    # then we can go over all the samples in that bin and compute the difference in prediction\n",
    "    \n",
    "    # for each sample point, we create one wiggled data point with the value of the bin, and one wiggled point with the value of the previous bin\n",
    "    # for each bin, find all the value k's that fall into it\n",
    "\n",
    "    for bin_idx, bin in enumerate(np.unique(feature_j_grid_cell)):\n",
    "        samples_in_bin_indices = np.argwhere(feature_j_grid_cell[feature_j_grid_cell == bin]) # the samples within a bin, i.e. within the neighborhood of the bin\n",
    "        if samples_in_bin_indices.size == 0:\n",
    "            continue\n",
    "        difference_in_prediction_inner_sum = []\n",
    "        samples_in_neighborhood = X.iloc[samples_in_bin_indices.flatten()].copy()\n",
    "        for index, sample in samples_in_neighborhood.iterrows():\n",
    "        \n",
    "            z_j_k = z_j[bin_idx] # first grid cell\n",
    "            z_j_k_minus_1 = z_j[bin_idx-1] # previous grid cell\n",
    "\n",
    "            x_i_z_j_k = sample.copy()\n",
    "            x_i_z_j_k[feature_name] = z_j_k\n",
    "            \n",
    "            x_i_z_j_k_minus_1 = sample.copy()\n",
    "            x_i_z_j_k_minus_1[feature_name] = z_j_k_minus_1\n",
    "      \n",
    "            # get the difference in prediction \n",
    "            difference_in_prediction_for_x_i = regressor.predict(x_i_z_j_k.values.reshape(1, -1)) - regressor.predict(x_i_z_j_k_minus_1.values.reshape(1, -1))\n",
    "            difference_in_prediction_inner_sum.append(difference_in_prediction_for_x_i)\n",
    "\n",
    "        averaged_difference_in_prediction = np.sum(difference_in_prediction_inner_sum) * 1/len(  samples_in_neighborhood)\n",
    "        \n",
    "        \n",
    "        sum_over_all_values_k.append(averaged_difference_in_prediction)\n",
    "        \n",
    "    ale_uncentered = np.sum(sum_over_all_values_k)\n",
    "    ale_centered = ale_uncentered - 1/len(feature_j) * np.sum(sum_over_all_values_k)\n",
    "    \n",
    "    if return_individual_values:\n",
    "        return ale_centered, sum_over_all_values_k\n",
    "    else:\n",
    "        return ale_centered"
   ]
  },
  {
   "cell_type": "markdown",
   "metadata": {},
   "source": [
    "We also create one function to create the grid for continious columns"
   ]
  },
  {
   "cell_type": "code",
   "execution_count": 9,
   "metadata": {},
   "outputs": [],
   "source": [
    "def create_grid_continious(feature_j, grid_size=10):\n",
    "    k = np.unique(feature_j) # our value vector k of the unique values in feature j\n",
    "    percentile_cut_offs = np.linspace(0, 100, grid_size) / 100 # number of percentile values to compute\n",
    "    z_j = np.quantile(k, percentile_cut_offs) # compute the percentile values, k+1 values, as needed for the grid Z    \n",
    "    return z_j\n"
   ]
  },
  {
   "cell_type": "code",
   "execution_count": 10,
   "metadata": {},
   "outputs": [],
   "source": [
    "z_j = create_grid_continious(X[\"temp\"].values, grid_size=100)\n",
    "ale_centered, sum_over_all_values_k = compute_ale(X, \"temp\", z_j, return_individual_values=True)"
   ]
  },
  {
   "cell_type": "markdown",
   "metadata": {},
   "source": [
    "### Plot the ALE"
   ]
  },
  {
   "cell_type": "code",
   "execution_count": 11,
   "metadata": {},
   "outputs": [
    {
     "data": {
      "image/png": "[encoded data removed]",
      "text/plain": [
       "<Figure size 640x480 with 1 Axes>"
      ]
     },
     "metadata": {},
     "output_type": "display_data"
    }
   ],
   "source": [
    "# plot the ALE\n",
    "import matplotlib.pyplot as plt\n",
    "\n",
    "# plot the ALE\n",
    "plt.plot(z_j, sum_over_all_values_k)\n",
    "plt.show()"
   ]
  },
  {
   "cell_type": "markdown",
   "metadata": {},
   "source": [
    "# Sources"
   ]
  },
  {
   "cell_type": "markdown",
   "metadata": {},
   "source": [
    " Bike dataset pre-processing functions, similiar to the ones provided in R: https://github.com/christophM/interpretable-ml-book/blob/master/R/get-bike-sharing-dataset.R\n",
    "\n",
    " Main source: https://christophm.github.io/interpretable-ml-book/ale.html\n",
    " "
   ]
  }
 ],
 "metadata": {
  "kernelspec": {
   "display_name": "blogInterpret",
   "language": "python",
   "name": "python3"
  },
  "language_info": {
   "codemirror_mode": {
    "name": "ipython",
    "version": 3
   },
   "file_extension": ".py",
   "mimetype": "text/x-python",
   "name": "python",
   "nbconvert_exporter": "python",
   "pygments_lexer": "ipython3",
   "version": "3.11.4"
  },
  "orig_nbformat": 4
 },
 "nbformat": 4,
 "nbformat_minor": 2
}
